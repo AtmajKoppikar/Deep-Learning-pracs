{
  "nbformat": 4,
  "nbformat_minor": 0,
  "metadata": {
    "colab": {
      "provenance": []
    },
    "kernelspec": {
      "name": "python3",
      "display_name": "Python 3"
    },
    "language_info": {
      "name": "python"
    }
  },
  "cells": [
    {
      "cell_type": "code",
      "execution_count": 14,
      "metadata": {
        "id": "caJ4k-FjnO-B"
      },
      "outputs": [],
      "source": [
        "import numpy as np\n",
        "\n",
        "\n",
        "class perceptron():\n",
        "    def __init__(self):\n",
        "        self.weight = np.array([0.1, 0.1])\n",
        "        self.bias = 0.2\n",
        "\n",
        "# input = X = np.array([x1,x2])\n",
        "    def train(self, input, y_expected):\n",
        "        output = np.dot(input,self.weight) + self.bias\n",
        "        y = self.activation(output)\n",
        "        error = y_expected - y\n",
        "\n",
        "        self.weight = np.add(self.weight, np.dot(error, input))\n",
        "        self.bias = self.bias + error\n",
        "        return self.weight, self.bias\n",
        "\n",
        "\n",
        "    def activation(self, output):\n",
        "        if output > 0:\n",
        "            return 1\n",
        "        elif output <= 0:\n",
        "            return 0\n",
        "\n",
        "    def predict(self, input):\n",
        "        output = np.add(np.dot(input,self.weight), self.bias)\n",
        "        y = self.activation(output)\n",
        "        return y"
      ]
    },
    {
      "cell_type": "code",
      "source": [
        "\n",
        "inputs = [[1,1], [1,0], [0,1], [0,0]]\n",
        "and_outputs = [1,0,0,0]\n",
        "or_outputs = [1,1,1,0]\n",
        "nor_outputs = [0,0,0,1]\n",
        "nand_outputs = [0,1,1,1]\n"
      ],
      "metadata": {
        "id": "esEB3g2ApPWO"
      },
      "execution_count": 23,
      "outputs": []
    },
    {
      "cell_type": "code",
      "source": [
        "p = perceptron()\n",
        "for epoch in range(100):\n",
        "    for i in range(4):\n",
        "        weights,bias = p.train(np.array(inputs[i]), and_outputs[i])\n",
        "    if (epoch+1)%20 == 0:\n",
        "        print(\"\\nEPOCH : \", epoch+1)\n",
        "        print(\"weights\", weights+1)\n",
        "        print(\"bias\", bias)\n",
        "\n",
        "for i in range(4):\n",
        "    output = p.predict(np.array(inputs[i]))\n",
        "    print(\"\\n\", output)"
      ],
      "metadata": {
        "colab": {
          "base_uri": "https://localhost:8080/"
        },
        "id": "7Fm72VA40GAg",
        "outputId": "27e46b0d-b39f-4372-a80b-20c1718dd1af"
      },
      "execution_count": 26,
      "outputs": [
        {
          "output_type": "stream",
          "name": "stdout",
          "text": [
            "\n",
            "EPOCH :  20\n",
            "weights [2.1 3.1]\n",
            "bias -2.8\n",
            "\n",
            "EPOCH :  40\n",
            "weights [2.1 3.1]\n",
            "bias -2.8\n",
            "\n",
            "EPOCH :  60\n",
            "weights [2.1 3.1]\n",
            "bias -2.8\n",
            "\n",
            "EPOCH :  80\n",
            "weights [2.1 3.1]\n",
            "bias -2.8\n",
            "\n",
            "EPOCH :  100\n",
            "weights [2.1 3.1]\n",
            "bias -2.8\n",
            "\n",
            " 1\n",
            "\n",
            " 0\n",
            "\n",
            " 0\n",
            "\n",
            " 0\n"
          ]
        }
      ]
    },
    {
      "cell_type": "code",
      "source": [],
      "metadata": {
        "id": "FIokglrmsMd4"
      },
      "execution_count": null,
      "outputs": []
    },
    {
      "cell_type": "code",
      "source": [],
      "metadata": {
        "id": "LmhXuCtFtZ8p"
      },
      "execution_count": null,
      "outputs": []
    }
  ]
}